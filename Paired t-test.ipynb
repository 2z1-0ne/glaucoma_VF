{
 "cells": [
  {
   "cell_type": "code",
   "execution_count": null,
   "metadata": {},
   "outputs": [],
   "source": [
    "import numpy as np\n",
    "import pandas as pd\n",
    "from scipy import stats\n",
    "\n",
    "# Example data for two related groups\n",
    "group1 = pd.read_csv('mean_squared_LGBM_AA.csv')\n",
    "group2 = pd.read_csv('mean_squared_LGBM_FCM.csv')\n",
    "\n",
    "# Perform a paired t-test\n",
    "t_statistic, p_value = stats.ttest_rel(group1, group2)\n",
    "\n",
    "print(f\"t-statistic: {t_statistic}\")\n",
    "print(f\"P-value: {p_value}\")"
   ]
  },
  {
   "cell_type": "code",
   "execution_count": null,
   "metadata": {},
   "outputs": [],
   "source": [
    "group1 = pd.read_csv('pearson_LGBM_AA.csv')\n",
    "group2 = pd.read_csv('pearson_LGBM_FCM.csv')\n",
    "\n",
    "# Perform a paired t-test\n",
    "t_statistic, p_value = stats.ttest_rel(group1, group2)\n",
    "\n",
    "print(f\"t-statistic: {t_statistic}\")\n",
    "print(f\"P-value: {p_value}\")"
   ]
  },
  {
   "cell_type": "code",
   "execution_count": null,
   "metadata": {},
   "outputs": [],
   "source": [
    "group1 = pd.read_csv('mean_squared_randomforest_AA.csv')\n",
    "group2 = pd.read_csv('mean_squared_randomforest_FCM.csv')\n",
    "\n",
    "# Perform a paired t-test\n",
    "t_statistic, p_value = stats.ttest_rel(group1, group2)\n",
    "\n",
    "print(f\"t-statistic: {t_statistic}\")\n",
    "print(f\"P-value: {p_value}\")"
   ]
  },
  {
   "cell_type": "code",
   "execution_count": null,
   "metadata": {},
   "outputs": [],
   "source": [
    "group1 = pd.read_csv('pearson_randomforest_AA.csv')\n",
    "group2 = pd.read_csv('pearson_randomforest_FCM.csv')\n",
    "\n",
    "# Perform a paired t-test\n",
    "t_statistic, p_value = stats.ttest_rel(group1, group2)\n",
    "\n",
    "print(f\"t-statistic: {t_statistic}\")\n",
    "print(f\"P-value: {p_value}\")"
   ]
  },
  {
   "cell_type": "code",
   "execution_count": null,
   "metadata": {},
   "outputs": [],
   "source": [
    "group1 = pd.read_csv('pearson_SVM_AA.csv')\n",
    "group2 = pd.read_csv('pearson_SVM_FCM.csv')\n",
    "\n",
    "# Perform a paired t-test\n",
    "t_statistic, p_value = stats.ttest_rel(group1, group2)\n",
    "\n",
    "print(f\"t-statistic: {t_statistic}\")\n",
    "print(f\"P-value: {p_value}\")"
   ]
  },
  {
   "cell_type": "code",
   "execution_count": null,
   "metadata": {},
   "outputs": [],
   "source": [
    "group1 = pd.read_csv('mean_squared_SVM_AA.csv')\n",
    "group2 = pd.read_csv('mean_squared_SVM_FCM.csv')\n",
    "\n",
    "# Perform a paired t-test\n",
    "t_statistic, p_value = stats.ttest_rel(group1, group2)\n",
    "\n",
    "print(f\"t-statistic: {t_statistic}\")\n",
    "print(f\"P-value: {p_value}\")"
   ]
  },
  {
   "cell_type": "code",
   "execution_count": null,
   "metadata": {},
   "outputs": [],
   "source": [
    "group1 = pd.read_csv('pearson_knn_AA.csv')\n",
    "group2 = pd.read_csv('pearson_knn_FCM.csv')\n",
    "\n",
    "# Perform a paired t-test\n",
    "t_statistic, p_value = stats.ttest_rel(group1, group2)\n",
    "\n",
    "print(f\"t-statistic: {t_statistic}\")\n",
    "print(f\"P-value: {p_value}\")"
   ]
  },
  {
   "cell_type": "code",
   "execution_count": null,
   "metadata": {},
   "outputs": [],
   "source": [
    "group1 = pd.read_csv('mean_squared_knn_AA.csv')\n",
    "group2 = pd.read_csv('mean_squared_knn_FCM.csv')\n",
    "\n",
    "# Perform a paired t-test\n",
    "t_statistic, p_value = stats.ttest_rel(group1, group2)\n",
    "\n",
    "print(f\"t-statistic: {t_statistic}\")\n",
    "print(f\"P-value: {p_value}\")"
   ]
  }
 ],
 "metadata": {
  "kernelspec": {
   "display_name": "Python 3 (ipykernel)",
   "language": "python",
   "name": "python3"
  },
  "language_info": {
   "codemirror_mode": {
    "name": "ipython",
    "version": 3
   },
   "file_extension": ".py",
   "mimetype": "text/x-python",
   "name": "python",
   "nbconvert_exporter": "python",
   "pygments_lexer": "ipython3",
   "version": "3.8.10"
  }
 },
 "nbformat": 4,
 "nbformat_minor": 4
}
